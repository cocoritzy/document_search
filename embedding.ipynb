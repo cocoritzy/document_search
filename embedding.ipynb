{
 "cells": [
  {
   "cell_type": "markdown",
   "id": "0231b208",
   "metadata": {},
   "source": [
    "# Download embeddings model from hugging face"
   ]
  },
  {
   "cell_type": "code",
   "execution_count": null,
   "id": "aa06c8c7",
   "metadata": {},
   "outputs": [],
   "source": [
    "\n",
    "from huggingface_hub import hf_hub_download\n",
    "import torch\n",
    "from model import CBOW\n",
    "\n",
    "# model withou title heckers \n",
    "model_path = hf_hub_download(repo_id=\"cocoritzy/cbow-upvotes_model\", filename=\"cbow_model.pt\")\n"
   ]
  },
  {
   "cell_type": "code",
   "execution_count": null,
   "id": "03c51114",
   "metadata": {},
   "outputs": [],
   "source": [
    "# These must match what we trained with\n",
    "input_dim = 100\n",
    "# model = CBOW(vocab_size=30000, embedding_dim=input_dim)\n",
    "vocab_size = xx\n",
    "\n",
    "model = CBOW(vocab_size=vocab_size, embedding_dim=input_dim) \n",
    "\n",
    "# Load model weights, saving to gpu if available\n",
    "device = torch.device(\"cuda\" if torch.cuda.is_available() else \"cpu\")\n",
    "checkpoint = torch.load(model_path, map_location=device)\n",
    "model.load_state_dict(checkpoint[\"model_state_dict\"])\n",
    "model.to(device)\n",
    "\n",
    "model.eval()\n",
    "\n",
    "# Load vocab mappings\n",
    "token_to_index = checkpoint[\"token_to_index\"]\n",
    "\n",
    "# embedding_layer = model.embeddings\n",
    "embedding_layer = model.embedding"
   ]
  },
  {
   "cell_type": "markdown",
   "id": "aa7961b8",
   "metadata": {},
   "source": [
    "# Load query and title documents "
   ]
  },
  {
   "cell_type": "code",
   "execution_count": null,
   "id": "40da2c07",
   "metadata": {},
   "outputs": [],
   "source": [
    "\n",
    "from datasets import load_dataset\n",
    "\n",
    "dataset = load_dataset(\"cocoritzy/week_2_triplet_dataset_hard_negatives\")\n",
    "\n",
    "split_data = dataset[\"train\"].train_test_split(test_size=0.2, seed=42) # 80% train, 20% test"
   ]
  },
  {
   "cell_type": "markdown",
   "id": "597e86b3",
   "metadata": {},
   "source": [
    "# Convert title to embedding"
   ]
  },
  {
   "cell_type": "code",
   "execution_count": null,
   "id": "c394b5dd",
   "metadata": {},
   "outputs": [],
   "source": [
    "\n",
    "def title_to_embedding(title):\n",
    "    tokens = title.lower().split()\n",
    "    indices = [token_to_index.get(tok, 0) for tok in tokens]  # 0 for unknowns\n",
    "\n",
    "    indices_tensor = torch.tensor(indices, dtype=torch.long, device=device)\n",
    "\n",
    "    with torch.no_grad():\n",
    "        embeds = embedding_layer(indices_tensor) # [num_tokens, embedding_dim]\n",
    "        return embeds.mean(dim=0) # average pooling"
   ]
  }
 ],
 "metadata": {
  "language_info": {
   "name": "python"
  }
 },
 "nbformat": 4,
 "nbformat_minor": 5
}
